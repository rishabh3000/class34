{
 "cells": [
  {
   "cell_type": "code",
   "execution_count": 1,
   "metadata": {},
   "outputs": [
    {
     "name": "stdout",
     "output_type": "stream",
     "text": [
      "R\n",
      "I\n",
      "S\n",
      "H\n",
      "A\n",
      "The end\n"
     ]
    }
   ],
   "source": [
    "for val in \"RISHABH\":\n",
    "    if val == \"B\":\n",
    "        break\n",
    "    print(val)\n",
    "\n",
    "print(\"The end\")"
   ]
  },
  {
   "cell_type": "code",
   "execution_count": 2,
   "metadata": {},
   "outputs": [
    {
     "name": "stdout",
     "output_type": "stream",
     "text": [
      "r\n",
      "s\n",
      "h\n",
      "u\n",
      "The end\n"
     ]
    }
   ],
   "source": [
    "for val in \"rishu\":\n",
    "    if val == \"i\":\n",
    "        continue\n",
    "    print(val)\n",
    "\n",
    "print(\"The end\")"
   ]
  },
  {
   "cell_type": "code",
   "execution_count": null,
   "metadata": {},
   "outputs": [],
   "source": []
  }
 ],
 "metadata": {
  "kernelspec": {
   "display_name": "Python 3",
   "language": "python",
   "name": "python3"
  },
  "language_info": {
   "codemirror_mode": {
    "name": "ipython",
    "version": 3
   },
   "file_extension": ".py",
   "mimetype": "text/x-python",
   "name": "python",
   "nbconvert_exporter": "python",
   "pygments_lexer": "ipython3",
   "version": "3.8.3"
  }
 },
 "nbformat": 4,
 "nbformat_minor": 4
}
